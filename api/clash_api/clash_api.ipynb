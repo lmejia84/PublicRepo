{
 "cells": [
  {
   "cell_type": "markdown",
   "metadata": {},
   "source": [
    "## Script used to download my personal stats from my favorite mobile game Clash of Clans  \n",
    "Author: Luis Mejia\n",
    "<ol>\n",
    "  <li>Imports and declarations</li>\n",
    "  <li>Make request to Clash of Clans API</li>\n",
    "  <li>Scrape JSON file and load data into their own DataFrame</li>\n",
    "  <li>Loop through the DataFrames and insert them into my personal Google BigQuery project</li>\n",
    "</ol>"
   ]
  },
  {
   "cell_type": "code",
   "execution_count": null,
   "metadata": {},
   "outputs": [],
   "source": [
    "import requests\n",
    "import json\n",
    "import pandas as pd\n",
    "from datetime import date\n",
    "from tabulate import tabulate\n",
    "from google.cloud import bigquery\n",
    "import warnings\n",
    "\n",
    "warnings.filterwarnings(\"ignore\")\n",
    "api_token = 'my clash api token'\n",
    "players = ['L29CPQL8', '2RV8YG8U', '8PP0PJ8Q','LG0VGQYC','2P8CYY9VV', '2Y2G8YUJV', 'JJ98YLJG', '2QJQYY9VR','G29J22YG','9P9PCL9V','2QPC8PPG','2Q28PJYG','28P9VYYLP','29PY0JQL','8YJ0JJPL','JQJCJQLG', 'CC8G0CY8']\n",
    "today = date.today()\n",
    "# client = bigquery.Client.from_service_account_json('service_account.json')"
   ]
  },
  {
   "cell_type": "code",
   "execution_count": null,
   "metadata": {},
   "outputs": [],
   "source": [
    "#Make COC API request for each player in the players list\n",
    "try:\n",
    "    achievements_list = []\n",
    "    troops_list = []\n",
    "    heroes_list = []\n",
    "    spells_list = []      \n",
    "    play_stats_list = []                   \n",
    "    for player in players:       \n",
    "        url = \"https://api.clashofclans.com/v1/players/%23{player}\".format(player=player)\n",
    "        r = requests.get(url, headers={\"Accept\":\"application/json\", \"authorization\":\"Bearer \"+api_token}) #, params = {\"limit\":20})\n",
    "        data = json.loads(r.text)\n",
    "\n",
    "        #Get achievements data\n",
    "        achievements = pd.DataFrame(data['achievements'])\n",
    "        achievements[['archive_date','player_tag']] = pd.DataFrame([[today,player]],index=achievements.index)\n",
    "        achievements_list.append(achievements)\n",
    "\n",
    "        #Get troops stats\n",
    "        troops = pd.DataFrame(data['troops'])\n",
    "        troops[['archive_date','player_tag']] = pd.DataFrame([[today,player]],index=troops.index)\n",
    "        troops_list.append(troops)\n",
    "\n",
    "        #Get heroes data\n",
    "        heroes = pd.DataFrame(data['heroes'])\n",
    "        heroes[['archive_date','player_tag']] = pd.DataFrame([[today,player]],index=heroes.index)\n",
    "        heroes_list.append(heroes)\n",
    "\n",
    "        #Get Spells data\n",
    "        spells = pd.DataFrame(data['spells'])\n",
    "        spells[['archive_date','player_tag']] = pd.DataFrame([[today,player]],index=spells.index)\n",
    "        spells_list.append(spells)\n",
    "\n",
    "        #Get general player stats\n",
    "        play_stats = pd.DataFrame.from_dict(data, orient='index')\n",
    "        play_stats = play_stats.transpose()\n",
    "        # play_stats = play_stats[play_stats.columns[:19]]\n",
    "        play_stats[['archive_date','player_tag']] = pd.DataFrame([[today,player]],index=play_stats.index)   \n",
    "        play_stats_list.append(play_stats)         \n",
    "\n",
    "\n",
    "    df_achievements = pd.concat(achievements_list)\n",
    "    df_troops = pd.concat(troops_list)\n",
    "    df_heroes = pd.concat(heroes_list)\n",
    "    df_spells = pd.concat(spells_list)\n",
    "    df_play_stats = pd.concat(play_stats_list)\n",
    "\n",
    "    #Give dataframes names, based on names, a different table will be updated in BigQuery\n",
    "    df_achievements.Name = 'achievements'\n",
    "    df_troops.Name = 'troops'\n",
    "    df_heroes.Name = 'heroes'\n",
    "    df_spells.Name = 'spells'\n",
    "    df_play_stats.Name = 'play_stats'\n",
    "except Exception as e:\n",
    "    print(e)    "
   ]
  },
  {
   "cell_type": "code",
   "execution_count": 14,
   "metadata": {},
   "outputs": [],
   "source": [
    "def import_to_gbq(df, destination_table):\n",
    "    try:\n",
    "        ## If you want the column and row count then\n",
    "        table_id = destination_table\n",
    "        job_config = bigquery.LoadJobConfig(\n",
    "            schema=[\n",
    "            ],\n",
    "            write_disposition=\"WRITE_TRUNCATE\",\n",
    "        )\n",
    "\n",
    "        job = client.load_table_from_dataframe(\n",
    "            df, table_id, job_config=job_config\n",
    "        )  # Make an API request.\n",
    "\n",
    "        job.result()  # Wait for the job to complete.\n",
    "        table = client.get_table(table_id)  # Make an API request.\n",
    "        print(\"Loaded {} rows and {} columns to {}\".format(table.num_rows, len(table.schema), table_id))\n",
    "    except Exception as e:\n",
    "        print(e)"
   ]
  },
  {
   "cell_type": "code",
   "execution_count": 17,
   "metadata": {},
   "outputs": [
    {
     "name": "stdout",
     "output_type": "stream",
     "text": [
      "Loaded 782 rows and 9 columns to fleet-parser-330316.luis_stage.stg_coc_player_achievements\n",
      "┌────┬──────────────┬─────────┬────────────┬───────────┬────────────────┬──────────────┬──────────────────────┐\n",
      "│    │ name         │   level │   maxLevel │ village   │ archive_date   │ player_tag   │   superTroopIsActive │\n",
      "├────┼──────────────┼─────────┼────────────┼───────────┼────────────────┼──────────────┼──────────────────────┤\n",
      "│  0 │ Barbarian    │      11 │         11 │ home      │ 2023-02-02     │ L29CPQL8     │                  nan │\n",
      "│  1 │ Archer       │      11 │         11 │ home      │ 2023-02-02     │ L29CPQL8     │                  nan │\n",
      "│  2 │ Goblin       │       8 │          8 │ home      │ 2023-02-02     │ L29CPQL8     │                  nan │\n",
      "│  3 │ Giant        │      11 │         11 │ home      │ 2023-02-02     │ L29CPQL8     │                  nan │\n",
      "│  4 │ Wall Breaker │      11 │         11 │ home      │ 2023-02-02     │ L29CPQL8     │                  nan │\n",
      "│  5 │ Balloon      │      10 │         10 │ home      │ 2023-02-02     │ L29CPQL8     │                  nan │\n",
      "│  6 │ Wizard       │      11 │         11 │ home      │ 2023-02-02     │ L29CPQL8     │                  nan │\n",
      "│  7 │ Healer       │       7 │          7 │ home      │ 2023-02-02     │ L29CPQL8     │                  nan │\n",
      "│  8 │ Dragon       │       9 │          9 │ home      │ 2023-02-02     │ L29CPQL8     │                  nan │\n",
      "│  9 │ P.E.K.K.A    │       9 │          9 │ home      │ 2023-02-02     │ L29CPQL8     │                  nan │\n",
      "└────┴──────────────┴─────────┴────────────┴───────────┴────────────────┴──────────────┴──────────────────────┘\n",
      "Loaded 945 rows and 7 columns to fleet-parser-330316.luis_stage.stg_coc_player_troops\n",
      "┌────┬────────────────┬─────────┬────────────┬─────────────┬────────────────┬──────────────┐\n",
      "│    │ name           │   level │   maxLevel │ village     │ archive_date   │ player_tag   │\n",
      "├────┼────────────────┼─────────┼────────────┼─────────────┼────────────────┼──────────────┤\n",
      "│  0 │ Barbarian King │      85 │         85 │ home        │ 2023-02-02     │ L29CPQL8     │\n",
      "│  1 │ Archer Queen   │      85 │         85 │ home        │ 2023-02-02     │ L29CPQL8     │\n",
      "│  2 │ Grand Warden   │      60 │         60 │ home        │ 2023-02-02     │ L29CPQL8     │\n",
      "│  3 │ Battle Machine │      30 │         30 │ builderBase │ 2023-02-02     │ L29CPQL8     │\n",
      "│  4 │ Royal Champion │      35 │         35 │ home        │ 2023-02-02     │ L29CPQL8     │\n",
      "│  0 │ Barbarian King │      65 │         85 │ home        │ 2023-02-02     │ 2RV8YG8U     │\n",
      "│  1 │ Archer Queen   │      70 │         85 │ home        │ 2023-02-02     │ 2RV8YG8U     │\n",
      "│  2 │ Grand Warden   │      50 │         60 │ home        │ 2023-02-02     │ 2RV8YG8U     │\n",
      "│  3 │ Battle Machine │      30 │         30 │ builderBase │ 2023-02-02     │ 2RV8YG8U     │\n",
      "│  4 │ Royal Champion │      20 │         35 │ home        │ 2023-02-02     │ 2RV8YG8U     │\n",
      "└────┴────────────────┴─────────┴────────────┴─────────────┴────────────────┴──────────────┘\n",
      "Loaded 76 rows and 6 columns to fleet-parser-330316.luis_stage.stg_coc_player_heroes\n",
      "┌────┬──────────────────┬─────────┬────────────┬───────────┬────────────────┬──────────────┐\n",
      "│    │ name             │   level │   maxLevel │ village   │ archive_date   │ player_tag   │\n",
      "├────┼──────────────────┼─────────┼────────────┼───────────┼────────────────┼──────────────┤\n",
      "│  0 │ Lightning Spell  │      10 │         10 │ home      │ 2023-02-02     │ L29CPQL8     │\n",
      "│  1 │ Healing Spell    │       9 │          9 │ home      │ 2023-02-02     │ L29CPQL8     │\n",
      "│  2 │ Rage Spell       │       6 │          6 │ home      │ 2023-02-02     │ L29CPQL8     │\n",
      "│  3 │ Jump Spell       │       5 │          5 │ home      │ 2023-02-02     │ L29CPQL8     │\n",
      "│  4 │ Freeze Spell     │       7 │          7 │ home      │ 2023-02-02     │ L29CPQL8     │\n",
      "│  5 │ Poison Spell     │       9 │          9 │ home      │ 2023-02-02     │ L29CPQL8     │\n",
      "│  6 │ Earthquake Spell │       5 │          5 │ home      │ 2023-02-02     │ L29CPQL8     │\n",
      "│  7 │ Haste Spell      │       5 │          5 │ home      │ 2023-02-02     │ L29CPQL8     │\n",
      "│  8 │ Clone Spell      │       7 │          7 │ home      │ 2023-02-02     │ L29CPQL8     │\n",
      "│  9 │ Skeleton Spell   │       7 │          7 │ home      │ 2023-02-02     │ L29CPQL8     │\n",
      "└────┴──────────────────┴─────────┴────────────┴───────────┴────────────────┴──────────────┘\n",
      "Loaded 209 rows and 6 columns to fleet-parser-330316.luis_stage.stg_coc_player_spells\n",
      "Loaded 17 rows and 32 columns to fleet-parser-330316.luis_stage.stg_coc_player_stats\n"
     ]
    }
   ],
   "source": [
    "#loop through all frames and insert them in GBQ\n",
    "all_frames = [df_achievements,df_troops,df_heroes,df_spells,df_play_stats]\n",
    "for frame in all_frames:\n",
    "    frame_name = frame.Name\n",
    "    if frame_name == 'play_stats':\n",
    "        # print(tabulate(frame.head(10), headers='keys', tablefmt='simple_outline')) ##fancy_outline, simple_outline, simple_grid, rounded_grid, fancy_grid, html\n",
    "        import_to_gbq(frame, 'fleet-parser-330316.luis_stage.stg_coc_player_stats')\n",
    "    elif frame_name == 'achievements':\n",
    "        # print(tabulate(frame.head(10), headers='keys', tablefmt='simple_outline')) ##fancy_outline, simple_outline, simple_grid, rounded_grid, fancy_grid, html\n",
    "        import_to_gbq(frame, 'fleet-parser-330316.luis_stage.stg_coc_player_achievements')\n",
    "    elif frame_name == 'troops':\n",
    "        print(tabulate(frame.head(10), headers='keys', tablefmt='simple_outline')) ##fancy_outline, simple_outline, simple_grid, rounded_grid, fancy_grid, html\n",
    "        import_to_gbq(frame, 'fleet-parser-330316.luis_stage.stg_coc_player_troops')\n",
    "    elif frame_name == 'heroes':\n",
    "        print(tabulate(frame.head(10), headers='keys', tablefmt='simple_outline')) ##fancy_outline, simple_outline, simple_grid, rounded_grid, fancy_grid, html\n",
    "        import_to_gbq(frame, 'fleet-parser-330316.luis_stage.stg_coc_player_heroes')\n",
    "    elif frame_name == 'spells':\n",
    "        print(tabulate(frame.head(10), headers='keys', tablefmt='simple_outline')) ##fancy_outline, simple_outline, simple_grid, rounded_grid, fancy_grid, html\n",
    "        import_to_gbq(frame, 'fleet-parser-330316.luis_stage.stg_coc_player_spells')\n",
    "    else:\n",
    "        'nothing'                        \n",
    "    "
   ]
  },
  {
   "cell_type": "code",
   "execution_count": 18,
   "metadata": {},
   "outputs": [
    {
     "name": "stdout",
     "output_type": "stream",
     "text": [
      "updated all tables\n"
     ]
    }
   ],
   "source": [
    "#Finally, run a Stored Procedure that will insert all raw data from staging tables into prod tables\n",
    "try:\n",
    "    query_job = client.query('CALL `fleet-parser-330316.luistest.sp_coc_player_data_import`();')\n",
    "    results = query_job.result()\n",
    "\n",
    "    if query_job.state == 'DONE':\n",
    "        print('updated all tables')\n",
    "except Exception as e:\n",
    "    print(e)"
   ]
  },
  {
   "cell_type": "markdown",
   "metadata": {},
   "source": [
    "# Thank you!"
   ]
  }
 ],
 "metadata": {
  "kernelspec": {
   "display_name": "Python 3",
   "language": "python",
   "name": "python3"
  },
  "language_info": {
   "codemirror_mode": {
    "name": "ipython",
    "version": 3
   },
   "file_extension": ".py",
   "mimetype": "text/x-python",
   "name": "python",
   "nbconvert_exporter": "python",
   "pygments_lexer": "ipython3",
   "version": "3.11.0"
  },
  "orig_nbformat": 4,
  "vscode": {
   "interpreter": {
    "hash": "2bdd020fc82f61954c6329a537119cac42d9f08d252e0f4ad80396ccd5da4168"
   }
  }
 },
 "nbformat": 4,
 "nbformat_minor": 2
}
